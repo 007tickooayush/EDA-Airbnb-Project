{
  "nbformat": 4,
  "nbformat_minor": 0,
  "metadata": {
    "colab": {
      "private_outputs": true,
      "provenance": [],
      "collapsed_sections": [
        "H0kj-8xxnORC",
        "PBTbrJXOngz2",
        "u3PMJOP6ngxN",
        "MSa1f5Uengrz",
        "lQ7QKXXCp7Bj",
        "448CDAPjqfQr",
        "t6dVpIINYklI",
        "ijmpgYnKYklI",
        "bamQiAODYuh1",
        "gIfDvo9L0UH2"
      ],
      "include_colab_link": true
    },
    "kernelspec": {
      "name": "python3",
      "display_name": "Python 3"
    },
    "language_info": {
      "name": "python"
    }
  },
  "cells": [
    {
      "cell_type": "markdown",
      "metadata": {
        "id": "view-in-github",
        "colab_type": "text"
      },
      "source": [
        "<a href=\"https://colab.research.google.com/github/007tickooayush/EDA-Airbnb-Project/blob/master/Ayush_Tickoo_%5BCapstone_Project%5D_EDA_Sample_EDA_Submission_Template.ipynb\" target=\"_parent\"><img src=\"https://colab.research.google.com/assets/colab-badge.svg\" alt=\"Open In Colab\"/></a>"
      ]
    },
    {
      "cell_type": "markdown",
      "source": [
        "# **AirBnB Bookings Analysis**    - \n",
        "\n"
      ],
      "metadata": {
        "id": "vncDsAP0Gaoa"
      }
    },
    {
      "cell_type": "markdown",
      "source": [
        "##### **Project Type**    - EDA\n",
        "##### **Contribution**    - Individual\n"
      ],
      "metadata": {
        "id": "beRrZCGUAJYm"
      }
    },
    {
      "cell_type": "markdown",
      "source": [
        "# **About AirBnb -**"
      ],
      "metadata": {
        "id": "B3o-tPfFYfgd"
      }
    },
    {
      "cell_type": "markdown",
      "source": [
        "AirBnb is a San Fransico based online marketplace that focuses on short-term homestays and experiences. The company acts as a broker between the customer and host and provides its valuable services with a commission on each booking."
      ],
      "metadata": {
        "id": "FxsOvcRcYxO_"
      }
    },
    {
      "cell_type": "markdown",
      "source": [
        "# **Project Summary -**"
      ],
      "metadata": {
        "id": "FJNUwmbgGyua"
      }
    },
    {
      "cell_type": "markdown",
      "source": [
        "Since 2008 guests and hosts aave used Airbnb to expand n travelling possibilities and present a more unique, personlaized way of experiencing the world. Today, Airbnb became one ofa kind seervice that is used and recognized by the whole world. Data Analysis on millions of listings provided thorough Airbnb is a crucial factor for the company. These millions of listings generate a lot o data - data that can be analysed and used for security, business decisions,  understanding of customers' and providers' (hosts) behaviour and performance on the platform, guiding marketing initiatives, implementation of innovative additional services and much more. "
      ],
      "metadata": {
        "id": "F6v_1wHtG2nS"
      }
    },
    {
      "cell_type": "markdown",
      "source": [
        "# **GitHub Link -**"
      ],
      "metadata": {
        "id": "w6K7xa23Elo4"
      }
    },
    {
      "cell_type": "markdown",
      "source": [
        "[EDA-Airbnb-Project Github](https://github.com/007tickooayush/EDA-Airbnb-Project)"
      ],
      "metadata": {
        "id": "h1o69JH3Eqqn"
      }
    },
    {
      "cell_type": "markdown",
      "source": [
        "#### **Perform analysis and explore key findings about the data, like -**"
      ],
      "metadata": {
        "id": "PH-0ReGfmX4f"
      }
    },
    {
      "cell_type": "markdown",
      "source": [
        "* The relation between the price and neighbourhood group.\n",
        "* The neighbourhood with most traffic (in terms of bookings).\n",
        "* Preference of customers on the basis of price range.\n",
        "* Is the differnce in amount of bookings a noticeable feature for different neighbourhoods and reason for it.\n",
        "* Hosts with the most number of bookings and the reason behind it.\n",
        "* Looking into Room types and observing the bookings, availability, nights spent\n",
        "* Checking the price based on availability of rooms"
      ],
      "metadata": {
        "id": "PhDvGCAqmjP1"
      }
    },
    {
      "cell_type": "markdown",
      "source": [
        "# ***Let's Begin !***"
      ],
      "metadata": {
        "id": "O_i_v8NEhb9l"
      }
    },
    {
      "cell_type": "markdown",
      "source": [
        "## ***1. Know Your Data***"
      ],
      "metadata": {
        "id": "HhfV-JJviCcP"
      }
    },
    {
      "cell_type": "markdown",
      "source": [
        "### Import Libraries"
      ],
      "metadata": {
        "id": "Y3lxredqlCYt"
      }
    },
    {
      "cell_type": "code",
      "source": [
        "import pandas as pd\n",
        "import seaborn as sb\n",
        "import numpy as np\n",
        "import matplotlib.pyplot as  plt"
      ],
      "metadata": {
        "id": "M8Vqi-pPk-HR"
      },
      "execution_count": null,
      "outputs": []
    },
    {
      "cell_type": "code",
      "source": [
        "# using inline magic command to view the plots and charts in the notebook \n",
        "%matplotlib inline"
      ],
      "metadata": {
        "id": "EyNvm30LSfX1"
      },
      "execution_count": null,
      "outputs": []
    },
    {
      "cell_type": "markdown",
      "source": [
        "### Mount Drive"
      ],
      "metadata": {
        "id": "XONy5QWrKx5Z"
      }
    },
    {
      "cell_type": "code",
      "source": [
        "from google.colab import drive\n",
        "drive.mount('/content/drive/') "
      ],
      "metadata": {
        "id": "2eKTqcSeK2do"
      },
      "execution_count": null,
      "outputs": []
    },
    {
      "cell_type": "markdown",
      "source": [
        "### Dataset Loading"
      ],
      "metadata": {
        "id": "3RnN4peoiCZX"
      }
    },
    {
      "cell_type": "code",
      "source": [
        "path = '/content/drive/MyDrive/Colab Notebooks/1_EDA Project/'"
      ],
      "metadata": {
        "id": "D4QbGJVZLhOr"
      },
      "execution_count": null,
      "outputs": []
    },
    {
      "cell_type": "code",
      "source": [
        "df = pd.read_csv(path+'Airbnb NYC 2019.csv')"
      ],
      "metadata": {
        "id": "4CkvbW_SlZ_R"
      },
      "execution_count": null,
      "outputs": []
    },
    {
      "cell_type": "markdown",
      "source": [
        "### Dataset First View"
      ],
      "metadata": {
        "id": "x71ZqKXriCWQ"
      }
    },
    {
      "cell_type": "code",
      "source": [
        "df.head(10)"
      ],
      "metadata": {
        "id": "LWNFOSvLl09H"
      },
      "execution_count": null,
      "outputs": []
    },
    {
      "cell_type": "markdown",
      "source": [
        "### Dataset Rows & Columns count"
      ],
      "metadata": {
        "id": "7hBIi_osiCS2"
      }
    },
    {
      "cell_type": "code",
      "source": [
        "df.shape"
      ],
      "metadata": {
        "id": "Kllu7SJgmLij"
      },
      "execution_count": null,
      "outputs": []
    },
    {
      "cell_type": "code",
      "source": [
        "df.describe()"
      ],
      "metadata": {
        "id": "fyg-XQ16xqhl"
      },
      "execution_count": null,
      "outputs": []
    },
    {
      "cell_type": "code",
      "source": [
        "df.columns"
      ],
      "metadata": {
        "id": "INqSuE3JI6J5"
      },
      "execution_count": null,
      "outputs": []
    },
    {
      "cell_type": "markdown",
      "source": [
        "### Dataset Information"
      ],
      "metadata": {
        "id": "JlHwYmJAmNHm"
      }
    },
    {
      "cell_type": "code",
      "source": [
        "df.info()"
      ],
      "metadata": {
        "id": "e9hRXRi6meOf"
      },
      "execution_count": null,
      "outputs": []
    },
    {
      "cell_type": "markdown",
      "source": [
        "#### Missing Values/Null Values"
      ],
      "metadata": {
        "id": "PoPl-ycgm1ru"
      }
    },
    {
      "cell_type": "code",
      "source": [
        "df.isna().sum()"
      ],
      "metadata": {
        "id": "GgHWkxvamxVg"
      },
      "execution_count": null,
      "outputs": []
    },
    {
      "cell_type": "code",
      "source": [
        "# visualizing the missing values\n",
        "import missingno as msno"
      ],
      "metadata": {
        "id": "3q5wnI3om9sJ"
      },
      "execution_count": null,
      "outputs": []
    },
    {
      "cell_type": "code",
      "source": [
        "msno.bar(df)"
      ],
      "metadata": {
        "id": "8jqq5iDIJ96_"
      },
      "execution_count": null,
      "outputs": []
    },
    {
      "cell_type": "markdown",
      "source": [
        "#### Mostly the missing values are in `last_review` and `reviews_per_month` and some are in `name` and `host_name`"
      ],
      "metadata": {
        "id": "0Uc559BqKMOH"
      }
    },
    {
      "cell_type": "markdown",
      "source": [
        "### What did you know about your dataset?"
      ],
      "metadata": {
        "id": "H0kj-8xxnORC"
      }
    },
    {
      "cell_type": "markdown",
      "source": [
        "The dataset is reliable and we can draw the required fincdings as we have the majority of data in a valid form, supporting the exploratory analysis. For the misssing and null values we can populate the columns using certain techniques. The inter-relation between the columns is also a key attribute here, enabling us to get a variety of findings from the data and provide assistance in reaching a solid conclusion about the dataset."
      ],
      "metadata": {
        "id": "gfoNAAC-nUe_"
      }
    },
    {
      "cell_type": "markdown",
      "source": [
        "## ***2. Understanding Your Variables***"
      ],
      "metadata": {
        "id": "nA9Y7ga8ng1Z"
      }
    },
    {
      "cell_type": "code",
      "source": [
        "# Dataset Columns\n",
        "df.columns"
      ],
      "metadata": {
        "id": "j7xfkqrt5Ag5"
      },
      "execution_count": null,
      "outputs": []
    },
    {
      "cell_type": "code",
      "source": [
        "# Dataset Describe\n",
        "df.describe()"
      ],
      "metadata": {
        "id": "DnOaZdaE5Q5t"
      },
      "execution_count": null,
      "outputs": []
    },
    {
      "cell_type": "markdown",
      "source": [
        "### Variables Description "
      ],
      "metadata": {
        "id": "PBTbrJXOngz2"
      }
    },
    {
      "cell_type": "markdown",
      "source": [
        "`id`                                : unique ideintification key for each accomodation\n",
        "\n",
        "`name`                              : Name of the accomodation service provider\n",
        "\n",
        "`host_id`                           : Unique identification key for each host\n",
        "\n",
        "`host_name`                         : Name of the host\n",
        "\n",
        "`neighbourhood_group`               : Area in which accomodation is situated \n",
        "\n",
        "`neighbourhood`                     : Closest place in which accomodation is situated \n",
        "\n",
        "`latitude`                          : Co-ordinate attribute\n",
        "\n",
        "`longitude`                         : Co-ordinate attribute\n",
        "\n",
        "`room_type`                         : Type of room(s) provided to the user\n",
        "\n",
        "`price`                             : Price of stay\n",
        "\n",
        "`minimum_nights`                    : Minimum number of nights stayed\n",
        "\n",
        "`number_of_reviews`                 : Number of reviews the place has recieved\n",
        "\n",
        "`last_review`                       : Date of the last review\n",
        "\n",
        "`reviews_per_month`                 : Reviews per month recieved by the place\n",
        "\n",
        "`calculated_host_listings_count`    : Count of Total host listings for the accomodation\n",
        "\n",
        "`availability_365`                  : Availability of the place throughout the year"
      ],
      "metadata": {
        "id": "aJV4KIxSnxay"
      }
    },
    {
      "cell_type": "markdown",
      "source": [
        "### Check Unique Values for each variable."
      ],
      "metadata": {
        "id": "u3PMJOP6ngxN"
      }
    },
    {
      "cell_type": "code",
      "source": [
        "df.nunique()"
      ],
      "metadata": {
        "id": "zms12Yq5n-jE"
      },
      "execution_count": null,
      "outputs": []
    },
    {
      "cell_type": "markdown",
      "source": [
        "## 3. ***Data Wrangling***"
      ],
      "metadata": {
        "id": "dauF4eBmngu3"
      }
    },
    {
      "cell_type": "markdown",
      "source": [
        "### Data Wrangling Code"
      ],
      "metadata": {
        "id": "bKJF3rekwFvQ"
      }
    },
    {
      "cell_type": "code",
      "source": [
        "# Write your code to make your dataset analysis ready.\n",
        "# making only the required parameters available for analysis\n",
        "req_cols = ['id','name','host_id','host_name','neighbourhood_group','neighbourhood','room_type','price','number_of_reviews','calculated_host_listings_count','minimum_nights','availability_365']\n",
        "\n",
        "df2 = df.copy()[req_cols]"
      ],
      "metadata": {
        "id": "wk-9a2fpoLcV"
      },
      "execution_count": null,
      "outputs": []
    },
    {
      "cell_type": "code",
      "source": [
        "df2.head(10)"
      ],
      "metadata": {
        "id": "dDSmpi3-YY4j"
      },
      "execution_count": null,
      "outputs": []
    },
    {
      "cell_type": "code",
      "source": [
        "df2.isna().sum()"
      ],
      "metadata": {
        "id": "sy_3wJ8NYrAH"
      },
      "execution_count": null,
      "outputs": []
    },
    {
      "cell_type": "code",
      "source": [
        "# replace the NaN values\n",
        "df2.fillna({'name':'NO_NAME','host_name':'NO_HOST_NAME'},inplace=True)"
      ],
      "metadata": {
        "id": "N3Aq1F1FWs-A"
      },
      "execution_count": null,
      "outputs": []
    },
    {
      "cell_type": "code",
      "source": [
        "len(df2[df2['name'] == 'NO_NAME'])"
      ],
      "metadata": {
        "id": "B4ruVHDCVyXp"
      },
      "execution_count": null,
      "outputs": []
    },
    {
      "cell_type": "code",
      "source": [
        "len(df2[df2['host_name'] == 'NO_HOST_NAME'])"
      ],
      "metadata": {
        "id": "SoevmL7KZkY5"
      },
      "execution_count": null,
      "outputs": []
    },
    {
      "cell_type": "markdown",
      "source": [
        "### What all manipulations have you done and insights you found?"
      ],
      "metadata": {
        "id": "MSa1f5Uengrz"
      }
    },
    {
      "cell_type": "markdown",
      "source": [
        "After removing the unnecessary data columns from the dataset we can draw analysis based on the required and concerning items. Some missing entries and unexpected values have been encountered in the dataset and have been tagged with an identifiable feature, such that it becomes easy to exclude such values when it occurs in the resultset of analysis.\n",
        "\n",
        "Althougth the data is limited but there are vast number of business oriented and improvement analytics that can be drawn via the relationship between the variables, such as the relationship between price and neighbourhood groups telling us about which place can be deemed to be busiest according to the price range that is preferred the most, and the number of bookings and hosts, telling us about the success rate of hosts, and the relation between room types and minimum nights spent, depicting what type of room are preferred most or least, and the demographic situation of the place provided by neighbourhood groups versus the number of bookings for each of them."
      ],
      "metadata": {
        "id": "LbyXE7I1olp8"
      }
    },
    {
      "cell_type": "markdown",
      "source": [
        "## ***4. Data Vizualization, Storytelling & Experimenting with charts : Understand the relationships between variables***"
      ],
      "metadata": {
        "id": "GF8Ens_Soomf"
      }
    },
    {
      "cell_type": "markdown",
      "source": [
        "#### 1. The relation between the price and neighbourhood group"
      ],
      "metadata": {
        "id": "0wOQAZs5pc--"
      }
    },
    {
      "cell_type": "code",
      "source": [
        "df_room = df2.groupby(['neighbourhood_group','room_type'])['price'].mean().sort_values(ascending=False)\n",
        "\n",
        "plt.figure(figsize = (15,10))\n",
        "df_room.plot(kind = 'bar')\n",
        "plt.xlabel('neighbourhood group and room type combined')\n",
        "plt.ylabel('Average price')\n",
        "\n",
        "plt.show()\n"
      ],
      "metadata": {
        "id": "7v_ESjsspbW7"
      },
      "execution_count": null,
      "outputs": []
    },
    {
      "cell_type": "markdown",
      "source": [
        "##### 1. Why did you pick the specific chart?"
      ],
      "metadata": {
        "id": "K5QZ13OEpz2H"
      }
    },
    {
      "cell_type": "markdown",
      "source": [
        "This chart tells us about the average price of a neighbourood group along with its particular type of room."
      ],
      "metadata": {
        "id": "XESiWehPqBRc"
      }
    },
    {
      "cell_type": "markdown",
      "source": [
        "##### 2. What is/are the insight(s) found from the chart?"
      ],
      "metadata": {
        "id": "lQ7QKXXCp7Bj"
      }
    },
    {
      "cell_type": "markdown",
      "source": [
        "The price range of each place along with its accomodation category may vary from place to place.\n",
        "Private rooms and home/apartments are highly expensive as compared to other rooms.\n",
        "Shared rooms on the other hand are available at very low cost comparatively.\n"
      ],
      "metadata": {
        "id": "C_j1G7yiqdRP"
      }
    },
    {
      "cell_type": "markdown",
      "source": [
        "##### 3. Will the gained insights help creating a positive business impact? \n",
        "Are there any insights that lead to negative growth? Justify with specific reason."
      ],
      "metadata": {
        "id": "448CDAPjqfQr"
      }
    },
    {
      "cell_type": "markdown",
      "source": [
        "No negative insights can be drawn from here as the categories fit perfectly in the specified price ranges. And shared rooms being highly budget friendly can be deemed more busy as compared to the other types, especially for individuals rather than groups of people."
      ],
      "metadata": {
        "id": "3cspy4FjqxJW"
      }
    },
    {
      "cell_type": "markdown",
      "source": [
        "#### 2. The neighbourhood with most traffic (in terms of bookings).\n"
      ],
      "metadata": {
        "id": "KSlN3yHqYklG"
      }
    },
    {
      "cell_type": "code",
      "source": [
        "df_area = df2.groupby(['neighbourhood_group'])['number_of_reviews'].max().sort_values(ascending=True)\n",
        "\n",
        "plt.figure(figsize = (15,10))\n",
        "\n",
        "df_area.plot(kind = 'bar',color='orange')\n",
        "\n",
        "plt.ylabel(\"Number of reviews\")\n",
        "plt.xlabel(\"Neighbourhood Group\")\n",
        "\n",
        "\n",
        "plt.show()"
      ],
      "metadata": {
        "id": "R4YgtaqtYklH"
      },
      "execution_count": null,
      "outputs": []
    },
    {
      "cell_type": "markdown",
      "source": [
        "##### 1. Why did you pick the specific chart?"
      ],
      "metadata": {
        "id": "t6dVpIINYklI"
      }
    },
    {
      "cell_type": "markdown",
      "source": [
        "This visualization depicts the areas with most number of bookings which is represented by the number of reviews it has recorded."
      ],
      "metadata": {
        "id": "5aaW0BYyYklI"
      }
    },
    {
      "cell_type": "markdown",
      "source": [
        "##### 2. What is/are the insight(s) found from the chart?"
      ],
      "metadata": {
        "id": "ijmpgYnKYklI"
      }
    },
    {
      "cell_type": "markdown",
      "source": [
        "Queens being the top most place in terms of bookings followed by Manhattan and Brooklyn with minor difference in the terms of reviews recieved. Hence, showing that queens is the place with most traffic in terms of bookings."
      ],
      "metadata": {
        "id": "PSx9atu2YklI"
      }
    },
    {
      "cell_type": "markdown",
      "source": [
        "##### 3. Will the gained insights help creating a positive business impact? \n",
        "Are there any insights that lead to negative growth? Justify with specific reason."
      ],
      "metadata": {
        "id": "-JiQyfWJYklI"
      }
    },
    {
      "cell_type": "markdown",
      "source": [
        "The gained insights can be used to shift focus to the places with lesser number of reviews and investigate the reason behind it so that revenue can be stabilized. As the assumptions that can be drawn are that in that neighbourhood group the accomodations are less or can also be due to the geographical situation of the place. So after pin poiniting the reason, it can be worked upon, resulting in profitable outcome."
      ],
      "metadata": {
        "id": "BcBbebzrYklV"
      }
    },
    {
      "cell_type": "markdown",
      "source": [
        "#### 3. Preference of customers on the basis of price range."
      ],
      "metadata": {
        "id": "EM7whBJCYoAo"
      }
    },
    {
      "cell_type": "code",
      "source": [
        "df_price = df2.groupby(['price'])['number_of_reviews'].max().reset_index()\n",
        "\n",
        "plt.figure(figsize = (15,10))\n",
        "\n",
        "plt.scatter(df_price['price'],df_price['number_of_reviews'],color='orange')\n",
        "\n",
        "plt.xlabel('Price of the place')\n",
        "plt.ylabel('Number of reviews recieved')\n",
        "\n",
        "plt.show()"
      ],
      "metadata": {
        "id": "t6GMdE67YoAp"
      },
      "execution_count": null,
      "outputs": []
    },
    {
      "cell_type": "markdown",
      "source": [
        "##### 1. Why did you pick the specific chart?"
      ],
      "metadata": {
        "id": "fge-S5ZAYoAp"
      }
    },
    {
      "cell_type": "markdown",
      "source": [
        "This chart tells about the number of reviews recieved by the place based on price, i.e, the preference of users when it comes to price range."
      ],
      "metadata": {
        "id": "5dBItgRVYoAp"
      }
    },
    {
      "cell_type": "markdown",
      "source": [
        "##### 2. What is/are the insight(s) found from the chart?"
      ],
      "metadata": {
        "id": "85gYPyotYoAp"
      }
    },
    {
      "cell_type": "markdown",
      "source": [
        "The majority of reviews are recieved the lower price range, hence showing that mostly a user would prefer a lower price range for accomodation, rather than a costly one."
      ],
      "metadata": {
        "id": "4jstXR6OYoAp"
      }
    },
    {
      "cell_type": "markdown",
      "source": [
        "##### 3. Will the gained insights help creating a positive business impact? \n",
        "Are there any insights that lead to negative growth? Justify with specific reason."
      ],
      "metadata": {
        "id": "RoGjAbkUYoAp"
      }
    },
    {
      "cell_type": "markdown",
      "source": [
        "Lower price can attract more number of customers and enable them to confirm a booking with a greater chance rather than a default or higher price provided to the user."
      ],
      "metadata": {
        "id": "zfJ8IqMcYoAp"
      }
    },
    {
      "cell_type": "markdown",
      "source": [
        "#### 4. Is the differnce in amount of bookings a noticeable feature for different neighbourhoods and reason for it."
      ],
      "metadata": {
        "id": "4Of9eVA-YrdM"
      }
    },
    {
      "cell_type": "code",
      "source": [
        "df_tr_area = df2.groupby(['neighbourhood_group','room_type'])['minimum_nights'].count().sort_values(ascending=False).reset_index()\n",
        "\n",
        "plt.figure(figsize=(10,8))\n",
        "\n",
        "plt.xlabel('Room Type')\n",
        "plt.ylabel('Minimum Number of Nights Spent')\n",
        "\n",
        "plt.bar(df_tr_area['room_type'],df_tr_area['minimum_nights'],width=0.5,color='red')\n",
        "\n",
        "plt.show()"
      ],
      "metadata": {
        "id": "irlUoxc8YrdO"
      },
      "execution_count": null,
      "outputs": []
    },
    {
      "cell_type": "code",
      "source": [
        "print('DATA SUMMARY: ')\n",
        "df_tr_area"
      ],
      "metadata": {
        "id": "PVXFzFlAoB7v"
      },
      "execution_count": null,
      "outputs": []
    },
    {
      "cell_type": "markdown",
      "source": [
        "##### 1. Why did you pick the specific chart?"
      ],
      "metadata": {
        "id": "iky9q4vBYrdO"
      }
    },
    {
      "cell_type": "markdown",
      "source": [
        "This chart and data summary tells us about the type of rooms and areas with most traffic on the basis of room type and minimum number of nights spent by a customer. "
      ],
      "metadata": {
        "id": "aJRCwT6DYrdO"
      }
    },
    {
      "cell_type": "markdown",
      "source": [
        "##### 2. What is/are the insight(s) found from the chart?"
      ],
      "metadata": {
        "id": "F6T5p64dYrdO"
      }
    },
    {
      "cell_type": "markdown",
      "source": [
        "Entire home/apt have the most number of bookings and Manhattan has the highest traffic as compared to other places with Entire Home/apt as the preferred room type, followed by Brooklyn with private room as a choice of room."
      ],
      "metadata": {
        "id": "Xx8WAJvtYrdO"
      }
    },
    {
      "cell_type": "markdown",
      "source": [
        "##### 3. Will the gained insights help creating a positive business impact? \n",
        "Are there any insights that lead to negative growth? Justify with specific reason."
      ],
      "metadata": {
        "id": "y-Ehk30pYrdP"
      }
    },
    {
      "cell_type": "markdown",
      "source": [
        "The private rooms and Entire apartments are mostly preferred by the majority of users, if an ease of access is provided to the users booking these room types and providing similar rooms in other areas, the chances of confirmation are higher which can result in a positive manner."
      ],
      "metadata": {
        "id": "jLNxxz7MYrdP"
      }
    },
    {
      "cell_type": "markdown",
      "source": [
        "#### 5. Hosts with the most number of bookings and the reason behind it"
      ],
      "metadata": {
        "id": "bamQiAODYuh1"
      }
    },
    {
      "cell_type": "code",
      "source": [
        "df_host = df2.groupby(['host_id','host_name','room_type'])['number_of_reviews'].max().sort_values(ascending=False).reset_index()[:10]\n",
        "\n",
        "# 'Top 10 hosts with most number of reviews'\n",
        "df_host"
      ],
      "metadata": {
        "id": "TIJwrbroYuh3"
      },
      "execution_count": null,
      "outputs": []
    },
    {
      "cell_type": "code",
      "source": [
        "plt.figure(figsize=(10,8))\n",
        "\n",
        "df_host.plot(x='host_name',y='number_of_reviews',kind='bar')\n",
        "\n",
        "plt.xlabel('Top 10 hosts')\n",
        "plt.ylabel('Number of reviews recieved')\n",
        "\n",
        "plt.show()"
      ],
      "metadata": {
        "id": "IcESdKM5t072"
      },
      "execution_count": null,
      "outputs": []
    },
    {
      "cell_type": "markdown",
      "source": [
        "##### 1. Why did you pick the specific chart?"
      ],
      "metadata": {
        "id": "QHF8YVU7Yuh3"
      }
    },
    {
      "cell_type": "markdown",
      "source": [
        "To get the knowledge about the hosts with the highest score displayed in terms of number of reviews recieved by them in bookings."
      ],
      "metadata": {
        "id": "dcxuIMRPYuh3"
      }
    },
    {
      "cell_type": "markdown",
      "source": [
        "##### 2. What is/are the insight(s) found from the chart?"
      ],
      "metadata": {
        "id": "GwzvFGzlYuh3"
      }
    },
    {
      "cell_type": "markdown",
      "source": [
        "The top 10 hosts are : \n",
        "\n",
        "Dona, Jj, Maya, Carol, Danielle, Asa, Wanda, Linda, Dani, and Angela\n",
        "\n",
        "And all of them deal in Private Rooms or Entire Home/apts"
      ],
      "metadata": {
        "id": "uyqkiB8YYuh3"
      }
    },
    {
      "cell_type": "markdown",
      "source": [
        "##### 3. Will the gained insights help creating a positive business impact? \n",
        "Are there any insights that lead to negative growth? Justify with specific reason."
      ],
      "metadata": {
        "id": "qYpmQ266Yuh3"
      }
    },
    {
      "cell_type": "markdown",
      "source": [
        "These hosts can be considered as hosts with higher probability of closing bookings and especially if the room type is Private Room or Entire Home/apts, since these are the mostly preferred room types. So for these rooms having one of these hosts would result as a positive impact on the bookings, and later on the potential of these hosts can also be explored in other type of room to experiment with their effectiveness. "
      ],
      "metadata": {
        "id": "_WtzZ_hCYuh4"
      }
    },
    {
      "cell_type": "markdown",
      "source": [
        "#### 6. Looking into Room types and observing the bookings, availability, nights spent"
      ],
      "metadata": {
        "id": "OH-pJp9IphqM"
      }
    },
    {
      "cell_type": "code",
      "source": [
        "\n",
        "# based on avilability_365\n",
        "df2.groupby(['room_type','neighbourhood_group'])['availability_365'].mean().sort_values(ascending=False).reset_index()\n"
      ],
      "metadata": {
        "id": "kuRf4wtuphqN"
      },
      "execution_count": null,
      "outputs": []
    },
    {
      "cell_type": "code",
      "source": [
        "# average listing of each based on neighbourhood Group and room type\n",
        "df2.groupby(['neighbourhood_group','room_type']).mean().reset_index()"
      ],
      "metadata": {
        "id": "TGL3yZ9GYSL2"
      },
      "execution_count": null,
      "outputs": []
    },
    {
      "cell_type": "code",
      "source": [
        "# least 10 listing count neighbourhood\n",
        "df_least = df.groupby(['neighbourhood'])['host_name'].count().reset_index().sort_values(ascending=False,by='host_name').rename(columns={'host_name':'count'}).tail(10)\n",
        "df_least"
      ],
      "metadata": {
        "id": "J6zmcUPuUBcn"
      },
      "execution_count": null,
      "outputs": []
    },
    {
      "cell_type": "code",
      "source": [
        "df_least.plot(kind='bar',x = 'neighbourhood',y='count')\n",
        "\n",
        "plt.ylabel('count of listings/bookings')\n",
        "plt.xlabel('neighbourhood')\n",
        "plt.show()"
      ],
      "metadata": {
        "id": "AsSN-EpuaUp_"
      },
      "execution_count": null,
      "outputs": []
    },
    {
      "cell_type": "code",
      "source": [
        "# more details about the 10 areas with lowest listings \n",
        "neigh_list = list(df_least['neighbourhood'])\n",
        "\n",
        "df2[df2['neighbourhood'].isin(neigh_list)]"
      ],
      "metadata": {
        "id": "7RNKe3emi_aR"
      },
      "execution_count": null,
      "outputs": []
    },
    {
      "cell_type": "markdown",
      "source": [
        "##### 1. Why did you pick the specific chart?"
      ],
      "metadata": {
        "id": "bbFf2-_FphqN"
      }
    },
    {
      "cell_type": "markdown",
      "source": [
        "To know about the 10 areas with least listings/bookings in NYC"
      ],
      "metadata": {
        "id": "loh7H2nzphqN"
      }
    },
    {
      "cell_type": "markdown",
      "source": [
        "##### 2. What is/are the insight(s) found from the chart?"
      ],
      "metadata": {
        "id": "_ouA3fa0phqN"
      }
    },
    {
      "cell_type": "markdown",
      "source": [
        "The 10 areas with lowest number of listings are mostly present in Staten Island and Bronx."
      ],
      "metadata": {
        "id": "VECbqPI7phqN"
      }
    },
    {
      "cell_type": "markdown",
      "source": [
        "##### 3. Will the gained insights help creating a positive business impact? \n",
        "Are there any insights that lead to negative growth? Justify with specific reason."
      ],
      "metadata": {
        "id": "Seke61FWphqN"
      }
    },
    {
      "cell_type": "markdown",
      "source": [
        "Even though the selected areas are entire home/apts or private rooms, yet still have the lowest listings and are situated in Bronx and Staten Island. It can be possible because of the area the listings are low because for the same room types there are higher bookings for the majority of areas."
      ],
      "metadata": {
        "id": "DW4_bGpfphqN"
      }
    },
    {
      "cell_type": "markdown",
      "source": [
        "#### 7. Checking the price based on availability of rooms"
      ],
      "metadata": {
        "id": "PIIx-8_IphqN"
      }
    },
    {
      "cell_type": "code",
      "source": [
        "plt.figure(figsize = (10,10))\n",
        "\n",
        "plt.scatter(x=df2['availability_365'],y=df2['price'],edgecolors='white')\n",
        "plt.xlabel('Availability of Rooms')\n",
        "plt.ylabel('Price of Rooms')\n",
        "plt.show()"
      ],
      "metadata": {
        "id": "lqAIGUfyphqO"
      },
      "execution_count": null,
      "outputs": []
    },
    {
      "cell_type": "markdown",
      "source": [
        "##### 1. Why did you pick the specific chart?"
      ],
      "metadata": {
        "id": "t27r6nlMphqO"
      }
    },
    {
      "cell_type": "markdown",
      "source": [
        "This chart gives a pictorial representation of price vs the availability of rooms"
      ],
      "metadata": {
        "id": "iv6ro40sphqO"
      }
    },
    {
      "cell_type": "markdown",
      "source": [
        "##### 2. What is/are the insight(s) found from the chart?"
      ],
      "metadata": {
        "id": "r2jJGEOYphqO"
      }
    },
    {
      "cell_type": "markdown",
      "source": [
        "The pattern of price being high or low based on availability is hard to interpret from here but still we can see that for availability being 365 the price is higher."
      ],
      "metadata": {
        "id": "Po6ZPi4hphqO"
      }
    },
    {
      "cell_type": "markdown",
      "source": [
        "##### 3. Will the gained insights help creating a positive business impact? \n",
        "Are there any insights that lead to negative growth? Justify with specific reason."
      ],
      "metadata": {
        "id": "b0JNsNcRphqO"
      }
    },
    {
      "cell_type": "markdown",
      "source": [
        "The price is mostly constant but can be higher if the availability is 365. The business can hence not be majorly impacted in negative manner unless and until the availability stays around the median such that the revenue is not hindered anyhow if the availbility is too high for each accomodation. As for availability to be low the revenue must be compensated with the equal earnings from those specfic booking(s)."
      ],
      "metadata": {
        "id": "xvSq8iUTphqO"
      }
    },
    {
      "cell_type": "markdown",
      "source": [
        "#### Correlation Heatmap"
      ],
      "metadata": {
        "id": "NC_X3p0fY2L0"
      }
    },
    {
      "cell_type": "code",
      "source": [
        "# check the correlation of all the columns not only the selective ones\n",
        "df_corr = df.copy()\n",
        "df_corr.dropna(inplace=True)\n",
        "df.corr()"
      ],
      "metadata": {
        "id": "xyC9zolEZNRQ"
      },
      "execution_count": null,
      "outputs": []
    },
    {
      "cell_type": "code",
      "source": [
        "plt.figure(figsize=(12,12))\n",
        "\n",
        "sb.heatmap(df_corr.corr(),annot=True)\n",
        "plt.show()"
      ],
      "metadata": {
        "id": "V-2A1N77Rk0n"
      },
      "execution_count": null,
      "outputs": []
    },
    {
      "cell_type": "markdown",
      "source": [
        "##### 1. Why did you pick the specific chart?"
      ],
      "metadata": {
        "id": "UV0SzAkaZNRQ"
      }
    },
    {
      "cell_type": "markdown",
      "source": [
        "To determine the correlation between the values of each column provided in the dataset."
      ],
      "metadata": {
        "id": "DVPuT8LYZNRQ"
      }
    },
    {
      "cell_type": "markdown",
      "source": [
        "##### 2. What is/are the insight(s) found from the chart?"
      ],
      "metadata": {
        "id": "YPEH6qLeZNRQ"
      }
    },
    {
      "cell_type": "markdown",
      "source": [
        "The correlation between the presented data points."
      ],
      "metadata": {
        "id": "bfSqtnDqZNRR"
      }
    },
    {
      "cell_type": "markdown",
      "source": [
        "#### Pair Plot "
      ],
      "metadata": {
        "id": "q29F0dvdveiT"
      }
    },
    {
      "cell_type": "code",
      "source": [
        "sb.pairplot(df2,hue='room_type')\n",
        "\n",
        "plt.show()"
      ],
      "metadata": {
        "id": "o58-TEIhveiU"
      },
      "execution_count": null,
      "outputs": []
    },
    {
      "cell_type": "markdown",
      "source": [
        "##### 1. Why did you pick the specific chart?"
      ],
      "metadata": {
        "id": "EXh0U9oCveiU"
      }
    },
    {
      "cell_type": "markdown",
      "source": [
        "To see the disribution and understand the relationship of room type with other variables. "
      ],
      "metadata": {
        "id": "eMmPjTByveiU"
      }
    },
    {
      "cell_type": "markdown",
      "source": [
        "##### 2. What is/are the insight(s) found from the chart?"
      ],
      "metadata": {
        "id": "22aHeOlLveiV"
      }
    },
    {
      "cell_type": "markdown",
      "source": [
        "To see the disribution and understand the relationship of room type with other variables."
      ],
      "metadata": {
        "id": "uPQ8RGwHveiV"
      }
    },
    {
      "cell_type": "markdown",
      "source": [
        "## **5. Solution to Business Objective**"
      ],
      "metadata": {
        "id": "JcMwzZxoAimU"
      }
    },
    {
      "cell_type": "markdown",
      "source": [
        "#### What do you suggest the client to achieve Business Objective ? \n",
        "Explain Briefly."
      ],
      "metadata": {
        "id": "8G2x9gOozGDZ"
      }
    },
    {
      "cell_type": "markdown",
      "source": [
        "The price and the room type play a major role in decision making process of a customer as lesser the price more probability of rooms getting listed. Providing the best price possible would be a solution to get more listigs. If not direct discounts, then if some offers are provided to the users can result in increase of bookings as well. And for the areas with lesser number or decreasing number of bookings can be possible because of the locality, condition of rooms, etc. which should be monitored to stabilize the bookings from those areas.   "
      ],
      "metadata": {
        "id": "pASKb0qOza21"
      }
    },
    {
      "cell_type": "markdown",
      "source": [
        "# **Conclusion**"
      ],
      "metadata": {
        "id": "gCX9965dhzqZ"
      }
    },
    {
      "cell_type": "markdown",
      "source": [
        "* Low cost rooms are booked more often.\n",
        "* Entire home/apts and private rooms are the most preferred accomodations.\n",
        "* Minimum number of nghts spent by a user is less means they are travelling.\n",
        "* Hosts and neighbourhood play a noticeable role in confirming a booking, especially when it comes to private rooms and Entire Home/apts.\n",
        "* Neighbourhood areas with a higher number of reviews are most probably attracted by travellers.\n",
        "* Availability of rooms being less can affect the business in cases if the price is less as well.\n",
        "* Shared rooms are the least preferred accomodation for every area."
      ],
      "metadata": {
        "id": "Fjb1IsQkh3yE"
      }
    },
    {
      "cell_type": "markdown",
      "source": [
        "### ***Hurrah! You have successfully completed your EDA Capstone Project !!!***"
      ],
      "metadata": {
        "id": "gIfDvo9L0UH2"
      }
    }
  ]
}